{
 "cells": [
  {
   "cell_type": "code",
   "execution_count": 1,
   "metadata": {},
   "outputs": [],
   "source": [
    "import requests \n",
    "import time\n",
    "import pandas as pd\n",
    "import numpy as np\n",
    "\n",
    "from bs4 import BeautifulSoup\n",
    "from selenium import webdriver\n",
    "from pyshadow.main import Shadow\n"
   ]
  },
  {
   "cell_type": "code",
   "execution_count": 124,
   "metadata": {},
   "outputs": [],
   "source": [
    "driver = webdriver.Chrome()\n",
    "shadow = Shadow(driver)"
   ]
  },
  {
   "cell_type": "code",
   "execution_count": 3,
   "metadata": {},
   "outputs": [],
   "source": [
    "def get_all_products(search_item:str):\n",
    "    is_there_elements = True\n",
    "    page_index = 1\n",
    "\n",
    "    all_products = []\n",
    "\n",
    "    while is_there_elements:\n",
    "        url = f'https://www.maxtitanium.com.br/busca?q={search_item.replace(\" \", \"+\")}&page={page_index}'\n",
    "        driver.get(url)\n",
    "        soup = BeautifulSoup(driver.page_source, 'html.parser')\n",
    "\n",
    "        time.sleep(3)\n",
    "\n",
    "        elements = shadow.find_elements('div.content')\n",
    "\n",
    "        is_there_elements = len(elements) > 0\n",
    "\n",
    "        if is_there_elements:\n",
    "            for i, el in enumerate(elements):\n",
    "                unpacked_items = el.text.split('\\n')\n",
    "\n",
    "                if len(unpacked_items) == 2:\n",
    "                    product_name = unpacked_items[0]\n",
    "                    current_price = None\n",
    "                    last_price = None\n",
    "                    availability = False\n",
    "                else:\n",
    "                    product_name, current_price, last_price = unpacked_items\n",
    "                    availability = True\n",
    "\n",
    "                try:\n",
    "                    last_price = float(last_price.replace('R$', '').replace(',', '.'))\n",
    "                    current_price = float(current_price.replace('R$', '').replace(',', '.'))\n",
    "                except:\n",
    "                    last_price = np.NaN\n",
    "                    current_price = np.NaN\n",
    "                \n",
    "                \n",
    "                product_dict = {\n",
    "                    'Nome_produto': product_name,\n",
    "                    'Preco_anterior': last_price,\n",
    "                    'Preco_atual': current_price,\n",
    "                    'Produto_disponivel': availability\n",
    "                }\n",
    "\n",
    "\n",
    "                all_products.append(product_dict)\n",
    "        \n",
    "        page_index += 1\n",
    "    \n",
    "    return pd.DataFrame(all_products)"
   ]
  },
  {
   "cell_type": "code",
   "execution_count": 4,
   "metadata": {},
   "outputs": [],
   "source": [
    "hipercaloricos = get_all_products('hipercalorico')"
   ]
  },
  {
   "cell_type": "code",
   "execution_count": null,
   "metadata": {},
   "outputs": [],
   "source": [
    "print('qnt items:', hipercaloricos.shape[0])\n",
    "\n",
    "hipercaloricos"
   ]
  },
  {
   "attachments": {},
   "cell_type": "markdown",
   "metadata": {},
   "source": [
    "# Teste"
   ]
  },
  {
   "cell_type": "code",
   "execution_count": 128,
   "metadata": {},
   "outputs": [],
   "source": [
    "page_index = 1\n",
    "search_item = 'hipercalorico'\n",
    "\n",
    "url = f'https://www.maxtitanium.com.br/masstitanium3kg/p'\n",
    "driver.get(url)\n",
    "soup = BeautifulSoup(driver.page_source, 'html.parser')"
   ]
  },
  {
   "cell_type": "code",
   "execution_count": 129,
   "metadata": {},
   "outputs": [],
   "source": [
    "mydivs = soup.find_all(class_=\"nutrition-facts__wrapper\")\n",
    "\n",
    "\n",
    "# \"vtex-flex-layout-0-x-flexColChild vtex-flex-layout-0-x-flexColChild--specification pb0\""
   ]
  },
  {
   "cell_type": "code",
   "execution_count": 130,
   "metadata": {},
   "outputs": [
    {
     "name": "stdout",
     "output_type": "stream",
     "text": [
      "0\n"
     ]
    }
   ],
   "source": [
    "print(len(mydivs))\n",
    "\n",
    "for div in mydivs:\n",
    "    print('-----##### NEW DIV #####-----')\n",
    "    print(div.prettify())"
   ]
  }
 ],
 "metadata": {
  "kernelspec": {
   "display_name": "Python 3.10.6 ('venv': venv)",
   "language": "python",
   "name": "python3"
  },
  "language_info": {
   "codemirror_mode": {
    "name": "ipython",
    "version": 3
   },
   "file_extension": ".py",
   "mimetype": "text/x-python",
   "name": "python",
   "nbconvert_exporter": "python",
   "pygments_lexer": "ipython3",
   "version": "3.10.6 (main, Nov 14 2022, 16:10:14) [GCC 11.3.0]"
  },
  "orig_nbformat": 4,
  "vscode": {
   "interpreter": {
    "hash": "1bc2c1e461bc4cae210303bdda61cb9424a58c50450b86185de9724b136f9a1c"
   }
  }
 },
 "nbformat": 4,
 "nbformat_minor": 2
}
